{
 "cells": [
  {
   "cell_type": "code",
   "execution_count": 1,
   "metadata": {},
   "outputs": [],
   "source": [
    "import sys\n",
    "import pickle\n",
    "import pandas as pd\n",
    "path: str = '/Users/juanbeta/My Drive/Research/Energy/E-CVRP-TW/Code/'\n",
    "#path: str = 'C:/Users/jm.betancourt/Documents/Research/Energy//E-CVRP-TW/Code/'\n",
    "\n",
    "from E_CVRP_TW import  E_CVRP_TW\n",
    "\n",
    "sys.path.insert(0,path+'Experimentation/')\n",
    "import plot_performance as plot"
   ]
  },
  {
   "cell_type": "markdown",
   "metadata": {},
   "source": [
    "# Define instance to evaluate"
   ]
  },
  {
   "cell_type": "code",
   "execution_count": 2,
   "metadata": {},
   "outputs": [],
   "source": [
    "env = E_CVRP_TW()"
   ]
  },
  {
   "attachments": {},
   "cell_type": "markdown",
   "metadata": {},
   "source": [
    "# Constructive"
   ]
  },
  {
   "attachments": {},
   "cell_type": "markdown",
   "metadata": {},
   "source": [
    "### Alpha configuration\n",
    "\n",
    "Testing various alpha configurations"
   ]
  },
  {
   "cell_type": "code",
   "execution_count": 3,
   "metadata": {},
   "outputs": [],
   "source": [
    "alphas = [0.15, 0.3, 0.5, 'Adaptative-Reactive']\n",
    "data_alpha = {}\n",
    "for instance in env.instances:\n",
    "    data_alpha[instance] = {}\n",
    "    for alpha in alphas:\n",
    "        data_alpha[instance][alpha] = plot.retrieve_const_performance(instance, path+f'Experimentation/Constructive/alpha/{alpha}/')"
   ]
  },
  {
   "cell_type": "code",
   "execution_count": 4,
   "metadata": {},
   "outputs": [
    {
     "name": "stdout",
     "output_type": "stream",
     "text": [
      " \t \t \t0.15 \t \t \t \t \t0.3 \t \t \t \t \t0.5 \t \t \t \t \tA-R\n",
      "Instance \tM \tEV \tFO \tgap \ts \t \tEV \tFO \tgap \ts \t \tEV \tFO \tgap \ts \t \tEV \tFO \tgap \ts\n",
      "c101C10.txt\t10\t4\t446.26\t13.33\t0.05\t \t4\t446.26\t13.33\t0.02\t \t4\t446.26\t13.33\t0.09\t \t4\t446.26\t13.33\t0.02\t \n",
      "c101C5.txt\t5\t3\t250.04\t-2.99\t0.0\t \t3\t250.04\t-2.99\t0.0\t \t3\t250.04\t-2.99\t0.0\t \t3\t250.04\t-2.99\t0.0\t \n",
      "c101_21.txt\t100\t20\t1974.81\t87.39\t291.86\t \t25\t2177.8\t106.66\t147.62\t \t24\t2386.12\t126.42\t314.32\t \t19\t1978.33\t87.73\t285.96\t \n",
      "c102_21.txt\t100\t21\t1909.41\t80.74\t293.19\t \t22\t2164.92\t104.92\t351.44\t \t22\t2362.55\t123.63\t91.18\t \t21\t1933.55\t83.02\t193.59\t \n",
      "c103C15.txt\t15\t4\t437.79\t13.92\t2.58\t \t5\t426.56\t11.0\t37.59\t \t3\t409.81\t6.64\t26.22\t \t5\t426.56\t11.0\t24.92\t \n",
      "c103C5.txt\t5\t2\t165.67\t-5.9\t0.0\t \t2\t165.67\t-5.9\t0.0\t \t2\t165.67\t-5.9\t0.0\t \t2\t165.67\t-5.9\t0.02\t \n",
      "c103_21.txt\t100\t18\t1799.87\t79.62\t116.82\t \t19\t1951.41\t94.75\t125.52\t \t20\t2121.89\t111.76\t220.37\t \t17\t1719.19\t71.57\t449.53\t \n",
      "c104C10.txt\t10\t2\t281.8\t2.87\t0.28\t \t2\t281.8\t2.87\t0.36\t \t2\t279.93\t2.19\t6.96\t \t2\t279.93\t2.19\t2.07\t \n",
      "c104_21.txt\t100\t15\t1668.08\t70.3\t82.65\t \t16\t1781.59\t81.89\t317.77\t \t17\t1894.94\t93.46\t68.09\t \t15\t1692.36\t72.78\t152.59\t \n",
      "c105_21.txt\t100\t17\t1927.51\t79.24\t207.24\t \t22\t2145.24\t99.49\t19.51\t \t23\t2440.3\t126.93\t373.66\t \t18\t1949.64\t81.3\t110.15\t \n"
     ]
    }
   ],
   "source": [
    "print(' \\t \\t \\t0.15 \\t \\t \\t \\t \\t0.3 \\t \\t \\t \\t \\t0.5 \\t \\t \\t \\t \\tA-R')\n",
    "print('Instance \\tM \\tEV \\tFO \\tgap \\ts \\t \\tEV \\tFO \\tgap \\ts \\t \\tEV \\tFO \\tgap \\ts \\t \\tEV \\tFO \\tgap \\ts')\n",
    "\n",
    "for instance in env.instances[:10]:\n",
    "    env.load_data(instance)\n",
    "    things = [instance, len(env.Costumers)]\n",
    "    for alpha in alphas:\n",
    "        things += [len(data_alpha[instance][alpha]['best individual']),\n",
    "                    round(data_alpha[instance][alpha]['best distance'],2),\n",
    "                    data_alpha[instance][alpha]['gap'],\n",
    "                    round(data_alpha[instance][alpha]['time to find'],2),\n",
    "                    ' ']\n",
    "    print(*things,sep = '\\t')"
   ]
  },
  {
   "cell_type": "code",
   "execution_count": 8,
   "metadata": {},
   "outputs": [
    {
     "name": "stdout",
     "output_type": "stream",
     "text": [
      "########## Performance ##########\n",
      "incumbent: 2009.52\n",
      "gap: 84.63%\n",
      "time to find: 266.16\n"
     ]
    }
   ],
   "source": [
    "instance = env.sizes['l'][20]\n",
    "alpha = 0.5\n",
    "\n",
    "print(f'########## Performance ##########')\n",
    "print(f'incumbent: {round(data_alpha[instance][alpha][\"best distance\"],2)}')\n",
    "print(f'gap: {round((data_alpha[instance][alpha][\"best distance\"] - env.bkFO[instance])/env.bkFO[instance]*100,2)}%')\n",
    "print(f'time to find: {round(data_alpha[instance][alpha][\"time to find\"],2)}')"
   ]
  },
  {
   "cell_type": "code",
   "execution_count": 6,
   "metadata": {},
   "outputs": [
    {
     "data": {
      "image/png": "[encoded data removed]",
      "text/plain": [
       "<Figure size 432x288 with 1 Axes>"
      ]
     },
     "metadata": {
      "needs_background": "light"
     },
     "output_type": "display_data"
    }
   ],
   "source": [
    "plot.plot_performance(data_alpha[instance],instance)\n",
    "# 0.15 -> red\n",
    "# 0.3 -> orange\n",
    "# 0.5 -> browm\n",
    "# Reactive-Adaptative -> green"
   ]
  },
  {
   "attachments": {},
   "cell_type": "markdown",
   "metadata": {},
   "source": [
    "### Restrictive criterion\n",
    "\n",
    "Testing various restriction configuration for the RCL"
   ]
  },
  {
   "cell_type": "code",
   "execution_count": null,
   "metadata": {},
   "outputs": [],
   "source": [
    "criterions = ['distance', 'TimeWindow','Intra-Hybrid', 'Exo-Hybrid']\n",
    "data_crit = {}\n",
    "for instance in env.instances:\n",
    "    data_crit[instance] = {}\n",
    "    for criterion in criterions:\n",
    "        data_crit[instance][alpha] = plot.retrieve_const_performance(instance, path+f'Experimentation/Constructive/RCL criterion/{criterion}/')"
   ]
  },
  {
   "cell_type": "code",
   "execution_count": null,
   "metadata": {},
   "outputs": [],
   "source": [
    "print(' \\t \\t \\tDist \\t \\t \\t \\t \\tTW \\t \\t \\t \\t \\tHybrid')\n",
    "print('Instance \\tM \\tEV \\tFO \\tgap \\ts \\t \\tEV \\tFO \\tgap \\ts \\t \\tEV \\tFO \\tgap \\ts')\n",
    "\n",
    "for instance in env.instances[:10]:\n",
    "    env.load_data(instance)\n",
    "    things = [instance, len(env.Costumers)]\n",
    "    for criterion in criterions:\n",
    "        things += [len(data_crit[instance][criterion]['best individual']),\n",
    "                    round(data_crit[instance][criterion]['best distance'],2),\n",
    "                    data_crit[instance][criterion]['gap'],\n",
    "                    round(data_crit[instance][criterion]['time to find'],2),\n",
    "                    ' ']\n",
    "    print(*things,sep = '\\t')"
   ]
  },
  {
   "cell_type": "code",
   "execution_count": null,
   "metadata": {},
   "outputs": [],
   "source": [
    "instance = env.sizes['l'][20]\n",
    "criterion = 'distance'\n",
    "\n",
    "print(f'########## Performance ##########')\n",
    "print(f'incumbent: {round(data_alpha[instance][criterion][\"best distance\"],2)}')\n",
    "print(f'gap: {round((data_alpha[instance][criterion][\"best distance\"] - env.bkFO[instance])/env.bkFO[instance]*100,2)}%')\n",
    "print(f'time to find: {round(data_alpha[instance][criterion][\"time to find\"],2)}')"
   ]
  },
  {
   "cell_type": "markdown",
   "metadata": {},
   "source": [
    "# Operators"
   ]
  },
  {
   "cell_type": "code",
   "execution_count": null,
   "metadata": {},
   "outputs": [],
   "source": []
  },
  {
   "cell_type": "code",
   "execution_count": null,
   "metadata": {},
   "outputs": [],
   "source": []
  },
  {
   "cell_type": "code",
   "execution_count": null,
   "metadata": {},
   "outputs": [],
   "source": []
  },
  {
   "cell_type": "code",
   "execution_count": null,
   "metadata": {},
   "outputs": [],
   "source": []
  },
  {
   "cell_type": "code",
   "execution_count": null,
   "metadata": {},
   "outputs": [],
   "source": []
  },
  {
   "cell_type": "code",
   "execution_count": null,
   "metadata": {},
   "outputs": [],
   "source": []
  },
  {
   "cell_type": "code",
   "execution_count": null,
   "metadata": {},
   "outputs": [],
   "source": []
  },
  {
   "cell_type": "code",
   "execution_count": null,
   "metadata": {},
   "outputs": [],
   "source": []
  },
  {
   "cell_type": "code",
   "execution_count": null,
   "metadata": {},
   "outputs": [],
   "source": []
  },
  {
   "cell_type": "code",
   "execution_count": null,
   "metadata": {},
   "outputs": [],
   "source": []
  },
  {
   "cell_type": "code",
   "execution_count": null,
   "metadata": {},
   "outputs": [],
   "source": []
  },
  {
   "cell_type": "code",
   "execution_count": null,
   "metadata": {},
   "outputs": [],
   "source": [
    "##### Export data to Excel\n",
    "d = {'instance': [], 'M':[]}\n",
    "for instance in env.instances:\n",
    "    env.load_data(instance)\n",
    "    d['instance'].append(instance)\n",
    "    d['M'].append(len(env.Costumers))\n",
    "\n",
    "for alpha in alphas:\n",
    "    d[f'{alpha}/# EV'] = [len(data[instance][alpha]['best individual']) for instance in env.instances]\n",
    "    d[f'{alpha}/FO'] = [round(data[instance][alpha]['best distance'],2) for instance in env.instances]\n",
    "    d[f'{alpha}/gap'] = [data[instance][alpha]['gap'] for instance in env.instances]\n",
    "    d[f'{alpha}/t'] = [round(data[instance][alpha]['time to find'],2) for instance in env.instances]\n",
    "\n",
    "df = pd.DataFrame(data = d)\n",
    "df.to_excel('probando.xlsx')"
   ]
  }
 ],
 "metadata": {
  "kernelspec": {
   "display_name": "Python 3",
   "language": "python",
   "name": "python3"
  },
  "language_info": {
   "codemirror_mode": {
    "name": "ipython",
    "version": 3
   },
   "file_extension": ".py",
   "mimetype": "text/x-python",
   "name": "python",
   "nbconvert_exporter": "python",
   "pygments_lexer": "ipython3",
   "version": "3.10.4"
  },
  "orig_nbformat": 4
 },
 "nbformat": 4,
 "nbformat_minor": 2
}

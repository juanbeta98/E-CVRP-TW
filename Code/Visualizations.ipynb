{
 "cells": [
  {
   "cell_type": "code",
   "execution_count": 1,
   "metadata": {},
   "outputs": [],
   "source": [
    "import sys\n",
    "path = '/Users/juanbeta/My Drive/Research/Energy/E-CVRP-TW/Code/'"
   ]
  },
  {
   "cell_type": "markdown",
   "metadata": {},
   "source": [
    "# Define instance to evaluate"
   ]
  },
  {
   "cell_type": "code",
   "execution_count": 2,
   "metadata": {},
   "outputs": [],
   "source": [
    "from E_CVRP_TW import  E_CVRP_TW\n",
    "env = E_CVRP_TW()\n",
    "instance = env.instances[0]"
   ]
  },
  {
   "cell_type": "markdown",
   "metadata": {},
   "source": [
    "# Constructive performance\n",
    "\n",
    "Display of the performance of the constructive heruristic on the\n",
    "different instances. The heuristic can be either deterministic or stochastic\n",
    "on placing stations on the route. "
   ]
  },
  {
   "cell_type": "code",
   "execution_count": 3,
   "metadata": {},
   "outputs": [
    {
     "ename": "FileNotFoundError",
     "evalue": "[Errno 2] No such file or directory: 'results_c202_21.txt'",
     "output_type": "error",
     "traceback": [
      "\u001b[0;31m---------------------------------------------------------------------------\u001b[0m",
      "\u001b[0;31mFileNotFoundError\u001b[0m                         Traceback (most recent call last)",
      "\u001b[1;32m/Users/juanbeta/My Drive/Research/Energy/E-CVRP-TW/Code/Visualizations.ipynb Cell 5\u001b[0m in \u001b[0;36m<cell line: 9>\u001b[0;34m()\u001b[0m\n\u001b[1;32m      <a href='vscode-notebook-cell:/Users/juanbeta/My%20Drive/Research/Energy/E-CVRP-TW/Code/Visualizations.ipynb#W3sZmlsZQ%3D%3D?line=5'>6</a>\u001b[0m \u001b[39mif\u001b[39;00m station_placement \u001b[39m==\u001b[39m \u001b[39m'\u001b[39m\u001b[39mdet\u001b[39m\u001b[39m'\u001b[39m: sys\u001b[39m.\u001b[39mpath\u001b[39m.\u001b[39minsert(\u001b[39m0\u001b[39m,path \u001b[39m+\u001b[39m \u001b[39m'\u001b[39m\u001b[39mConstructive/deterministic RCL/\u001b[39m\u001b[39m'\u001b[39m)\n\u001b[1;32m      <a href='vscode-notebook-cell:/Users/juanbeta/My%20Drive/Research/Energy/E-CVRP-TW/Code/Visualizations.ipynb#W3sZmlsZQ%3D%3D?line=6'>7</a>\u001b[0m \u001b[39melse\u001b[39;00m: sys\u001b[39m.\u001b[39mpath\u001b[39m.\u001b[39minsert(\u001b[39m0\u001b[39m,path \u001b[39m+\u001b[39m \u001b[39m'\u001b[39m\u001b[39mConstructive/stochastic RCL/\u001b[39m\u001b[39m'\u001b[39m)\n\u001b[0;32m----> <a href='vscode-notebook-cell:/Users/juanbeta/My%20Drive/Research/Energy/E-CVRP-TW/Code/Visualizations.ipynb#W3sZmlsZQ%3D%3D?line=8'>9</a>\u001b[0m plt\u001b[39m.\u001b[39;49mplot_constructive(instance)\n",
      "File \u001b[0;32m~/My Drive/Research/Energy/E-CVRP-TW/Code/Experimentation/plot_performance.py:5\u001b[0m, in \u001b[0;36mplot_constructive\u001b[0;34m(instance)\u001b[0m\n\u001b[1;32m      4\u001b[0m \u001b[39mdef\u001b[39;00m \u001b[39mplot_constructive\u001b[39m(instance):\n\u001b[0;32m----> 5\u001b[0m     file \u001b[39m=\u001b[39m \u001b[39mopen\u001b[39;49m(\u001b[39mf\u001b[39;49m\u001b[39m'\u001b[39;49m\u001b[39mresults_\u001b[39;49m\u001b[39m{\u001b[39;49;00minstance\u001b[39m}\u001b[39;49;00m\u001b[39m'\u001b[39;49m, \u001b[39m'\u001b[39;49m\u001b[39mrb\u001b[39;49m\u001b[39m'\u001b[39;49m)\n\u001b[1;32m      6\u001b[0m     data \u001b[39m=\u001b[39m pickle\u001b[39m.\u001b[39mload(file)\n\u001b[1;32m      7\u001b[0m     file\u001b[39m.\u001b[39mclose()\n",
      "\u001b[0;31mFileNotFoundError\u001b[0m: [Errno 2] No such file or directory: 'results_c202_21.txt'"
     ]
    }
   ],
   "source": [
    "sys.path.insert(0,path + 'Experimentation/')\n",
    "import plot_performance as plt\n",
    "\n",
    "station_placement = 'det' # 'stoch'\n",
    "\n",
    "if station_placement == 'det': sys.path.insert(0,path + 'Constructive/deterministic RCL/')\n",
    "else: sys.path.insert(0,path + 'Constructive/stochastic RCL/')\n",
    "\n",
    "plt.plot_constructive(instance)\n"
   ]
  },
  {
   "cell_type": "code",
   "execution_count": null,
   "metadata": {},
   "outputs": [],
   "source": []
  }
 ],
 "metadata": {
  "kernelspec": {
   "display_name": "Python 3",
   "language": "python",
   "name": "python3"
  },
  "language_info": {
   "codemirror_mode": {
    "name": "ipython",
    "version": 3
   },
   "file_extension": ".py",
   "mimetype": "text/x-python",
   "name": "python",
   "nbconvert_exporter": "python",
   "pygments_lexer": "ipython3",
   "version": "3.10.4"
  },
  "orig_nbformat": 4
 },
 "nbformat": 4,
 "nbformat_minor": 2
}

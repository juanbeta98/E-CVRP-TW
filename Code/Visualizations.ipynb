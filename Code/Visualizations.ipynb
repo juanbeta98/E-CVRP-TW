{
 "cells": [
  {
   "cell_type": "code",
   "execution_count": 1,
   "metadata": {},
   "outputs": [],
   "source": [
    "import sys\n",
    "import pickle\n",
    "import pandas as pd\n",
    "path: str = '/Users/juanbeta/My Drive/Research/Energy/E-CVRP-TW/Code/'\n",
    "#path: str = 'C:/Users/jm.betancourt/Documents/Research/Energy//E-CVRP-TW/Code/'\n",
    "\n",
    "from E_CVRP_TW import  E_CVRP_TW, Feasibility\n",
    "env = E_CVRP_TW()\n",
    "\n",
    "sys.path.insert(0,path+'Experimentation/')\n",
    "import plot_performance as plot"
   ]
  },
  {
   "attachments": {},
   "cell_type": "markdown",
   "metadata": {},
   "source": [
    "# Constructive"
   ]
  },
  {
   "attachments": {},
   "cell_type": "markdown",
   "metadata": {},
   "source": [
    "### Alpha configuration\n",
    "\n",
    "Testing various alpha configurations"
   ]
  },
  {
   "cell_type": "code",
   "execution_count": 3,
   "metadata": {},
   "outputs": [],
   "source": [
    "alphas = [0.15, 0.3, 0.5, 'Adaptative-Reactive']\n",
    "data_alpha = {}\n",
    "for instance in env.instances:\n",
    "    data_alpha[instance] = {}\n",
    "    for alpha in alphas:\n",
    "        data_alpha[instance][alpha] = plot.retrieve_const_performance(instance, path+f'Experimentation/Constructive/alpha/{alpha}/')"
   ]
  },
  {
   "cell_type": "code",
   "execution_count": 4,
   "metadata": {},
   "outputs": [
    {
     "name": "stdout",
     "output_type": "stream",
     "text": [
      " \t \t \t0.15 \t \t \t \t \t0.3 \t \t \t \t \t0.5 \t \t \t \t \tA-R\n",
      "Instance \tM \tEV \tFO \tgap \ts \t \tEV \tFO \tgap \ts \t \tEV \tFO \tgap \ts \t \tEV \tFO \tgap \ts\n",
      "c101C10.txt\t10\t4\t446.26\t13.33\t0.05\t \t4\t446.26\t13.33\t0.02\t \t4\t446.26\t13.33\t0.09\t \t4\t446.26\t13.33\t0.02\t \n",
      "c101C5.txt\t5\t3\t250.04\t-2.99\t0.0\t \t3\t250.04\t-2.99\t0.0\t \t3\t250.04\t-2.99\t0.0\t \t3\t250.04\t-2.99\t0.0\t \n",
      "c101_21.txt\t100\t20\t1974.81\t87.39\t291.86\t \t25\t2177.8\t106.66\t147.62\t \t24\t2386.12\t126.42\t314.32\t \t19\t1978.33\t87.73\t285.96\t \n",
      "c102_21.txt\t100\t21\t1909.41\t80.74\t293.19\t \t22\t2164.92\t104.92\t351.44\t \t22\t2362.55\t123.63\t91.18\t \t21\t1933.55\t83.02\t193.59\t \n",
      "c103C15.txt\t15\t4\t437.79\t13.92\t2.58\t \t5\t426.56\t11.0\t37.59\t \t3\t409.81\t6.64\t26.22\t \t5\t426.56\t11.0\t24.92\t \n",
      "c103C5.txt\t5\t2\t165.67\t-5.9\t0.0\t \t2\t165.67\t-5.9\t0.0\t \t2\t165.67\t-5.9\t0.0\t \t2\t165.67\t-5.9\t0.02\t \n",
      "c103_21.txt\t100\t18\t1799.87\t79.62\t116.82\t \t19\t1951.41\t94.75\t125.52\t \t20\t2121.89\t111.76\t220.37\t \t17\t1719.19\t71.57\t449.53\t \n",
      "c104C10.txt\t10\t2\t281.8\t2.87\t0.28\t \t2\t281.8\t2.87\t0.36\t \t2\t279.93\t2.19\t6.96\t \t2\t279.93\t2.19\t2.07\t \n",
      "c104_21.txt\t100\t15\t1668.08\t70.3\t82.65\t \t16\t1781.59\t81.89\t317.77\t \t17\t1894.94\t93.46\t68.09\t \t15\t1692.36\t72.78\t152.59\t \n",
      "c105_21.txt\t100\t17\t1927.51\t79.24\t207.24\t \t22\t2145.24\t99.49\t19.51\t \t23\t2440.3\t126.93\t373.66\t \t18\t1949.64\t81.3\t110.15\t \n"
     ]
    }
   ],
   "source": [
    "print(' \\t \\t \\t0.15 \\t \\t \\t \\t \\t0.3 \\t \\t \\t \\t \\t0.5 \\t \\t \\t \\t \\tA-R')\n",
    "print('Instance \\tM \\tEV \\tFO \\tgap \\ts \\t \\tEV \\tFO \\tgap \\ts \\t \\tEV \\tFO \\tgap \\ts \\t \\tEV \\tFO \\tgap \\ts')\n",
    "\n",
    "for instance in env.instances[:10]:\n",
    "    env.load_data(instance)\n",
    "    things = [instance, len(env.Costumers)]\n",
    "    for alpha in alphas:\n",
    "        things += [len(data_alpha[instance][alpha]['best individual']),\n",
    "                    round(data_alpha[instance][alpha]['best distance'],2),\n",
    "                    data_alpha[instance][alpha]['gap'],\n",
    "                    round(data_alpha[instance][alpha]['time to find'],2),\n",
    "                    ' ']\n",
    "    print(*things,sep = '\\t')"
   ]
  },
  {
   "cell_type": "code",
   "execution_count": 5,
   "metadata": {},
   "outputs": [
    {
     "name": "stdout",
     "output_type": "stream",
     "text": [
      "########## Performance ##########\n",
      "incumbent: 2009.52\n",
      "gap: 84.63%\n",
      "time to find: 266.16\n"
     ]
    }
   ],
   "source": [
    "instance = env.sizes['l'][20]\n",
    "alpha = 0.5\n",
    "\n",
    "print(f'########## Performance ##########')\n",
    "print(f'incumbent: {round(data_alpha[instance][alpha][\"best distance\"],2)}')\n",
    "print(f'gap: {round((data_alpha[instance][alpha][\"best distance\"] - env.bkFO[instance])/env.bkFO[instance]*100,2)}%')\n",
    "print(f'time to find: {round(data_alpha[instance][alpha][\"time to find\"],2)}')"
   ]
  },
  {
   "cell_type": "code",
   "execution_count": 6,
   "metadata": {},
   "outputs": [
    {
     "data": {
      "image/png": "[encoded data removed]",
      "text/plain": [
       "<Figure size 432x288 with 1 Axes>"
      ]
     },
     "metadata": {
      "needs_background": "light"
     },
     "output_type": "display_data"
    }
   ],
   "source": [
    "plot.plot_const_performance(data_alpha[instance],instance)"
   ]
  },
  {
   "attachments": {},
   "cell_type": "markdown",
   "metadata": {},
   "source": [
    "### Restrictive criterion\n",
    "\n",
    "Testing various restriction configuration for the RCL"
   ]
  },
  {
   "cell_type": "code",
   "execution_count": 7,
   "metadata": {},
   "outputs": [],
   "source": [
    "criterions = ['distance', 'TimeWindow','Intra-Hybrid', 'Exo-Hybrid']\n",
    "data_crit = {}\n",
    "for instance in env.instances:\n",
    "    data_crit[instance] = {}\n",
    "    for criterion in criterions:\n",
    "        data_crit[instance][criterion] = plot.retrieve_const_performance(instance, path+f'Experimentation/Constructive/RCL criterion/{criterion}/')"
   ]
  },
  {
   "cell_type": "code",
   "execution_count": 8,
   "metadata": {},
   "outputs": [
    {
     "name": "stdout",
     "output_type": "stream",
     "text": [
      " \t \t \tDist \t \t \t \t \tTW \t \t \t \t \tIntra-H \t \t \t \t \tExo-H\n",
      "Instance \tM \tEV \tFO \tgap \ts \t \tEV \tFO \tgap \ts \t \tEV \tFO \tgap \ts \t \tEV \tFO \tgap \ts\n",
      "c101_21.txt\t100\t22\t2072.4\t96.65\t254.56\t \t17\t1952.44\t85.27\t286.77\t \t19\t1966.44\t86.6\t272.4\t \t19\t1935.39\t83.65\t113.68\t \n",
      "c102_21.txt\t100\t25\t2116.75\t100.36\t58.18\t \t17\t1919.11\t81.65\t15.92\t \t21\t1945.92\t84.19\t67.63\t \t19\t1845.73\t74.71\t139.59\t \n",
      "c103_21.txt\t100\t20\t1831.56\t82.79\t44.21\t \t17\t1929.71\t92.58\t223.29\t \t18\t1772.5\t76.89\t78.91\t \t17\t1714.42\t71.09\t40.97\t \n",
      "c104_21.txt\t100\t15\t1503.63\t53.51\t146.8\t \t16\t1930.02\t97.04\t55.17\t \t15\t1698.01\t73.35\t22.58\t \t16\t1521.6\t55.34\t30.73\t \n",
      "c105_21.txt\t100\t22\t2083.78\t93.77\t259.92\t \t16\t1839.81\t71.09\t145.41\t \t19\t1969.32\t83.13\t246.36\t \t20\t1898.36\t76.53\t88.43\t \n",
      "c106_21.txt\t100\t18\t1919.43\t81.43\t216.8\t \t17\t1945.79\t83.92\t18.18\t \t19\t1952.2\t84.52\t346.07\t \t19\t1972.68\t86.46\t89.66\t \n",
      "c107_21.txt\t100\t19\t1988.4\t92.76\t277.84\t \t15\t1820.77\t76.51\t32.94\t \t20\t1989.93\t92.9\t37.68\t \t17\t1817.21\t76.16\t240.18\t \n",
      "c108_21.txt\t100\t18\t1808.75\t78.07\t250.24\t \t15\t1752.11\t72.5\t344.66\t \t18\t1849.66\t82.1\t145.53\t \t18\t1808.41\t78.04\t137.26\t \n",
      "c109_21.txt\t100\t16\t1574.63\t51.9\t335.34\t \t14\t1799.31\t73.57\t355.03\t \t16\t1722.16\t66.13\t41.54\t \t14\t1577.03\t52.13\t289.84\t \n",
      "c201_21.txt\t100\t15\t1632.98\t153.11\t311.31\t \t8\t1840.95\t185.35\t114.89\t \t10\t1754.8\t172.0\t49.68\t \t13\t1616.28\t150.52\t102.15\t \n"
     ]
    }
   ],
   "source": [
    "print(' \\t \\t \\tDist \\t \\t \\t \\t \\tTW \\t \\t \\t \\t \\tIntra-H \\t \\t \\t \\t \\tExo-H')\n",
    "print('Instance \\tM \\tEV \\tFO \\tgap \\ts \\t \\tEV \\tFO \\tgap \\ts \\t \\tEV \\tFO \\tgap \\ts \\t \\tEV \\tFO \\tgap \\ts')\n",
    "\n",
    "for instance in env.sizes['l'][:10]:\n",
    "    env.load_data(instance)\n",
    "    things = [instance, len(env.Costumers)]\n",
    "    for criterion in criterions:\n",
    "        things += [len(data_crit[instance][criterion]['best individual']),\n",
    "                    round(data_crit[instance][criterion]['best distance'],2),\n",
    "                    data_crit[instance][criterion]['gap'],\n",
    "                    round(data_crit[instance][criterion]['time to find'],2),\n",
    "                    ' ']\n",
    "    print(*things,sep = '\\t')"
   ]
  },
  {
   "cell_type": "code",
   "execution_count": 20,
   "metadata": {},
   "outputs": [
    {
     "name": "stdout",
     "output_type": "stream",
     "text": [
      "########## Performance ##########\n",
      "incumbent: 1839.81\n",
      "gap: 71.09%\n",
      "time to find: 145.41\n"
     ]
    }
   ],
   "source": [
    "instance = env.sizes['l'][4]\n",
    "criterion = 'TimeWindow'\n",
    "\n",
    "print(f'########## Performance ##########')\n",
    "print(f'incumbent: {round(data_crit[instance][criterion][\"best distance\"],2)}')\n",
    "print(f'gap: {round((data_crit[instance][criterion][\"best distance\"] - env.bkFO[instance])/env.bkFO[instance]*100,2)}%')\n",
    "print(f'time to find: {round(data_crit[instance][criterion][\"time to find\"],2)}')"
   ]
  },
  {
   "cell_type": "code",
   "execution_count": 21,
   "metadata": {},
   "outputs": [
    {
     "data": {
      "image/png": "[encoded data removed]",
      "text/plain": [
       "<Figure size 432x288 with 1 Axes>"
      ]
     },
     "metadata": {
      "needs_background": "light"
     },
     "output_type": "display_data"
    }
   ],
   "source": [
    "plot.plot_const_performance(data_crit[instance],instance)"
   ]
  },
  {
   "cell_type": "markdown",
   "metadata": {},
   "source": [
    "# Operators"
   ]
  },
  {
   "cell_type": "code",
   "execution_count": 2,
   "metadata": {},
   "outputs": [],
   "source": [
    "operators = ['Darwinian phi rate', 'two opt']\n",
    "data_op = dict()\n",
    "\n",
    "test_bed = ['c202C10.txt']#, 'c103_21.txt']\n",
    "\n",
    "for instance in test_bed:\n",
    "    data_op[instance] = dict()\n",
    "    for operator in operators[1:]:\n",
    "        data_op[instance][operator] = plot.retrieve_const_performance(instance, path+f'Experimentation/Operators/{operator}/')"
   ]
  },
  {
   "cell_type": "code",
   "execution_count": 5,
   "metadata": {},
   "outputs": [],
   "source": [
    "env.load_data(instance)\n",
    "env.generate_parameters()"
   ]
  },
  {
   "cell_type": "code",
   "execution_count": 6,
   "metadata": {},
   "outputs": [
    {
     "name": "stdout",
     "output_type": "stream",
     "text": [
      "True\n"
     ]
    }
   ],
   "source": [
    "feas_op = Feasibility()\n",
    "feasible, _ = feas_op.individual_check(env, data_op[test_bed[0]]['two opt']['best individual'])\n",
    "print(feasible)"
   ]
  },
  {
   "cell_type": "code",
   "execution_count": 7,
   "metadata": {},
   "outputs": [
    {
     "data": {
      "text/plain": [
       "(250.82762839209659, 0, ([121.6287296115423, 129.1988987805543], [0, 0]))"
      ]
     },
     "execution_count": 7,
     "metadata": {},
     "output_type": "execute_result"
    }
   ],
   "source": [
    "_"
   ]
  },
  {
   "cell_type": "code",
   "execution_count": 8,
   "metadata": {},
   "outputs": [
    {
     "data": {
      "text/plain": [
       "[['D', 'C8', 'C10', 'C16', 'S7', 'C25', 'C6', 'C30', 'C24', 'S0', 'D'],\n",
       " ['D', 'S15', 'C57', 'C96', 'S1', 'C84', 'D']]"
      ]
     },
     "execution_count": 8,
     "metadata": {},
     "output_type": "execute_result"
    }
   ],
   "source": [
    "data_op[test_bed[0]]['two opt']['best individual']"
   ]
  },
  {
   "cell_type": "code",
   "execution_count": 11,
   "metadata": {},
   "outputs": [
    {
     "name": "stdout",
     "output_type": "stream",
     "text": [
      " \t \t \tDist \t \t \t \t \tTW \t \t \t \t \tHybrid\n",
      "Instance \tM \tEV \tFO \tgap \ts \t \tEV \tFO \tgap \ts \t \tEV \tFO \tgap \ts\n"
     ]
    },
    {
     "ename": "AttributeError",
     "evalue": "'E_CVRP_TW' object has no attribute 'generate'",
     "output_type": "error",
     "traceback": [
      "\u001b[0;31m---------------------------------------------------------------------------\u001b[0m",
      "\u001b[0;31mAttributeError\u001b[0m                            Traceback (most recent call last)",
      "\u001b[1;32m/Users/juanbeta/My Drive/Research/Energy/E-CVRP-TW/Code/Visualizations.ipynb Cell 16\u001b[0m in \u001b[0;36m<cell line: 4>\u001b[0;34m()\u001b[0m\n\u001b[1;32m      <a href='vscode-notebook-cell:/Users/juanbeta/My%20Drive/Research/Energy/E-CVRP-TW/Code/Visualizations.ipynb#X21sZmlsZQ%3D%3D?line=3'>4</a>\u001b[0m \u001b[39mfor\u001b[39;00m instance \u001b[39min\u001b[39;00m env\u001b[39m.\u001b[39minstances[:\u001b[39m10\u001b[39m]:\n\u001b[1;32m      <a href='vscode-notebook-cell:/Users/juanbeta/My%20Drive/Research/Energy/E-CVRP-TW/Code/Visualizations.ipynb#X21sZmlsZQ%3D%3D?line=4'>5</a>\u001b[0m     env\u001b[39m.\u001b[39mload_data(instance)\n\u001b[0;32m----> <a href='vscode-notebook-cell:/Users/juanbeta/My%20Drive/Research/Energy/E-CVRP-TW/Code/Visualizations.ipynb#X21sZmlsZQ%3D%3D?line=5'>6</a>\u001b[0m     env\u001b[39m.\u001b[39;49mgenerate\n\u001b[1;32m      <a href='vscode-notebook-cell:/Users/juanbeta/My%20Drive/Research/Energy/E-CVRP-TW/Code/Visualizations.ipynb#X21sZmlsZQ%3D%3D?line=6'>7</a>\u001b[0m     things \u001b[39m=\u001b[39m [instance, \u001b[39mlen\u001b[39m(env\u001b[39m.\u001b[39mCostumers)]\n\u001b[1;32m      <a href='vscode-notebook-cell:/Users/juanbeta/My%20Drive/Research/Energy/E-CVRP-TW/Code/Visualizations.ipynb#X21sZmlsZQ%3D%3D?line=7'>8</a>\u001b[0m     \u001b[39mfor\u001b[39;00m criterion \u001b[39min\u001b[39;00m criterions:\n",
      "\u001b[0;31mAttributeError\u001b[0m: 'E_CVRP_TW' object has no attribute 'generate'"
     ]
    }
   ],
   "source": [
    "print(' \\t \\t \\tDist \\t \\t \\t \\t \\tTW \\t \\t \\t \\t \\tHybrid')\n",
    "print('Instance \\tM \\tEV \\tFO \\tgap \\ts \\t \\tEV \\tFO \\tgap \\ts \\t \\tEV \\tFO \\tgap \\ts')\n",
    "\n",
    "for instance in env.instances[:10]:\n",
    "    env.load_data(instance)\n",
    "    env.generate\n",
    "    things = [instance, len(env.Costumers)]\n",
    "    for criterion in criterions:\n",
    "        things += [len(data_crit[instance][criterion]['best individual']),\n",
    "                    round(data_crit[instance][criterion]['best distance'],2),\n",
    "                    data_crit[instance][criterion]['gap'],\n",
    "                    round(data_crit[instance][criterion]['time to find'],2),\n",
    "                    ' ']\n",
    "    print(*things,sep = '\\t')"
   ]
  },
  {
   "cell_type": "code",
   "execution_count": null,
   "metadata": {},
   "outputs": [],
   "source": [
    "instance = env.sizes['l'][20]\n",
    "criterion = 'distance'\n",
    "\n",
    "print(f'########## Performance ##########')\n",
    "print(f'incumbent: {round(data_alpha[instance][criterion][\"best distance\"],2)}')\n",
    "print(f'gap: {round((data_alpha[instance][criterion][\"best distance\"] - env.bkFO[instance])/env.bkFO[instance]*100,2)}%')\n",
    "print(f'time to find: {round(data_alpha[instance][criterion][\"time to find\"],2)}')"
   ]
  },
  {
   "cell_type": "code",
   "execution_count": 7,
   "metadata": {},
   "outputs": [
    {
     "ename": "AttributeError",
     "evalue": "'E_CVRP_TW' object has no attribute 'dist'",
     "output_type": "error",
     "traceback": [
      "\u001b[0;31m---------------------------------------------------------------------------\u001b[0m",
      "\u001b[0;31mAttributeError\u001b[0m                            Traceback (most recent call last)",
      "\u001b[1;32m/Users/juanbeta/My Drive/Research/Energy/E-CVRP-TW/Code/Visualizations.ipynb Cell 18\u001b[0m in \u001b[0;36m<cell line: 2>\u001b[0;34m()\u001b[0m\n\u001b[1;32m      <a href='vscode-notebook-cell:/Users/juanbeta/My%20Drive/Research/Energy/E-CVRP-TW/Code/Visualizations.ipynb#X23sZmlsZQ%3D%3D?line=0'>1</a>\u001b[0m feas_op \u001b[39m=\u001b[39m Feasibility()\n\u001b[0;32m----> <a href='vscode-notebook-cell:/Users/juanbeta/My%20Drive/Research/Energy/E-CVRP-TW/Code/Visualizations.ipynb#X23sZmlsZQ%3D%3D?line=1'>2</a>\u001b[0m feas_op\u001b[39m.\u001b[39;49mindividual_check(env, data_op[\u001b[39m'\u001b[39;49m\u001b[39mc101_21.txt\u001b[39;49m\u001b[39m'\u001b[39;49m][\u001b[39m'\u001b[39;49m\u001b[39mTesting\u001b[39;49m\u001b[39m'\u001b[39;49m][\u001b[39m'\u001b[39;49m\u001b[39mbest individual\u001b[39;49m\u001b[39m'\u001b[39;49m])\n",
      "File \u001b[0;32m~/My Drive/Research/Energy/E-CVRP-TW/Code/E_CVRP_TW.py:680\u001b[0m, in \u001b[0;36mFeasibility.individual_check\u001b[0;34m(self, env, individual)\u001b[0m\n\u001b[1;32m    678\u001b[0m node \u001b[39m=\u001b[39m route[i]\n\u001b[1;32m    679\u001b[0m target \u001b[39m=\u001b[39m route[i \u001b[39m+\u001b[39m \u001b[39m1\u001b[39m]\n\u001b[0;32m--> 680\u001b[0m feasible, t, q, k, \u001b[39mself\u001b[39;49m\u001b[39m.\u001b[39;49mtransition_check(env, node, target, t, q, k)\n\u001b[1;32m    681\u001b[0m \u001b[39mif\u001b[39;00m \u001b[39mnot\u001b[39;00m feasible:\n\u001b[1;32m    682\u001b[0m     \u001b[39mbreak\u001b[39;00m\n",
      "File \u001b[0;32m~/My Drive/Research/Energy/E-CVRP-TW/Code/E_CVRP_TW.py:691\u001b[0m, in \u001b[0;36mFeasibility.transition_check\u001b[0;34m(self, env, node, target, t, q, k)\u001b[0m\n\u001b[1;32m    690\u001b[0m \u001b[39mdef\u001b[39;00m \u001b[39mtransition_check\u001b[39m(\u001b[39mself\u001b[39m, env: E_CVRP_TW, node: \u001b[39mstr\u001b[39m, target: \u001b[39mstr\u001b[39m, t: \u001b[39mfloat\u001b[39m, q: \u001b[39mfloat\u001b[39m, k: \u001b[39mint\u001b[39m):\n\u001b[0;32m--> 691\u001b[0m     time_feasible, t \u001b[39m=\u001b[39m \u001b[39mself\u001b[39;49m\u001b[39m.\u001b[39;49mtime_check(env, node, target, t, q)\n\u001b[1;32m    692\u001b[0m     energy_feasible, q \u001b[39m=\u001b[39m \u001b[39mself\u001b[39m\u001b[39m.\u001b[39menergy_check(env, node, target, q)\n\u001b[1;32m    693\u001b[0m     load_feasible, k \u001b[39m=\u001b[39m \u001b[39mself\u001b[39m\u001b[39m.\u001b[39mload_check(env, target, k)\n",
      "File \u001b[0;32m~/My Drive/Research/Energy/E-CVRP-TW/Code/E_CVRP_TW.py:703\u001b[0m, in \u001b[0;36mFeasibility.time_check\u001b[0;34m(self, env, node, target, t, q)\u001b[0m\n\u001b[1;32m    701\u001b[0m \u001b[39mdef\u001b[39;00m \u001b[39mtime_check\u001b[39m(\u001b[39mself\u001b[39m, env: E_CVRP_TW, node: \u001b[39mstr\u001b[39m, target: \u001b[39mstr\u001b[39m, t: \u001b[39mfloat\u001b[39m, q: \u001b[39mfloat\u001b[39m):\n\u001b[1;32m    702\u001b[0m     feasible \u001b[39m=\u001b[39m \u001b[39mTrue\u001b[39;00m\n\u001b[0;32m--> 703\u001b[0m     travel_time \u001b[39m=\u001b[39m env\u001b[39m.\u001b[39;49mdist[node,target] \u001b[39m/\u001b[39m env\u001b[39m.\u001b[39mv\n\u001b[1;32m    704\u001b[0m     \u001b[39m# Total time check\u001b[39;00m\n\u001b[1;32m    705\u001b[0m     \u001b[39mif\u001b[39;00m target \u001b[39min\u001b[39;00m env\u001b[39m.\u001b[39mCostumers:\n",
      "\u001b[0;31mAttributeError\u001b[0m: 'E_CVRP_TW' object has no attribute 'dist'"
     ]
    }
   ],
   "source": []
  },
  {
   "cell_type": "code",
   "execution_count": null,
   "metadata": {},
   "outputs": [],
   "source": []
  },
  {
   "cell_type": "code",
   "execution_count": null,
   "metadata": {},
   "outputs": [],
   "source": []
  },
  {
   "cell_type": "code",
   "execution_count": null,
   "metadata": {},
   "outputs": [],
   "source": []
  },
  {
   "cell_type": "code",
   "execution_count": null,
   "metadata": {},
   "outputs": [],
   "source": []
  },
  {
   "cell_type": "code",
   "execution_count": null,
   "metadata": {},
   "outputs": [],
   "source": []
  },
  {
   "cell_type": "code",
   "execution_count": 2,
   "metadata": {},
   "outputs": [
    {
     "name": "stdout",
     "output_type": "stream",
     "text": [
      "['D', 10, 9, 7, 3, 6, 5, 2, 1, 4, 8, 'D']\n"
     ]
    }
   ],
   "source": [
    "route = ['D', 1,2,3,4,5,6,7,8,9,10, 'D']\n",
    "\n",
    "\n",
    "\n",
    "for i in range(1, len(route) - 2):\n",
    "    for j in range(i+1, len(route)):\n",
    "        if j-i == 1:\n",
    "            continue\n",
    "        new_route = route\n",
    "        new_route[i:j] = route[j-1:i-1:-1]\n",
    "\n",
    "print(new_route)"
   ]
  },
  {
   "cell_type": "code",
   "execution_count": null,
   "metadata": {},
   "outputs": [],
   "source": []
  },
  {
   "cell_type": "code",
   "execution_count": null,
   "metadata": {},
   "outputs": [],
   "source": [
    "##### Export data to Excel\n",
    "data = data_crit \n",
    "\n",
    "d = {'instance': [], 'M':[]}\n",
    "for instance in env.instances:\n",
    "    env.load_data(instance)\n",
    "    d['instance'].append(instance)\n",
    "    d['M'].append(len(env.Costumers))\n",
    "\n",
    "for criterion in criterions:\n",
    "    d[f'{criterion}/# EV'] = [len(data[instance][criterion]['best individual']) for instance in env.instances]\n",
    "    d[f'{criterion}/FO'] = [round(data[instance][criterion]['best distance'],2) for instance in env.instances]\n",
    "    # d[f'{criterion}/gap'] = [data[instance][criterion]['gap'] for instance in env.instances]\n",
    "    d[f'{criterion}/t'] = [round(data[instance][criterion]['time to find'],2) for instance in env.instances]\n",
    "\n",
    "df = pd.DataFrame(data = d)\n",
    "df.to_excel('criterions.xlsx')"
   ]
  }
 ],
 "metadata": {
  "kernelspec": {
   "display_name": "Python 3",
   "language": "python",
   "name": "python3"
  },
  "language_info": {
   "codemirror_mode": {
    "name": "ipython",
    "version": 3
   },
   "file_extension": ".py",
   "mimetype": "text/x-python",
   "name": "python",
   "nbconvert_exporter": "python",
   "pygments_lexer": "ipython3",
   "version": "3.10.4"
  },
  "orig_nbformat": 4
 },
 "nbformat": 4,
 "nbformat_minor": 2
}

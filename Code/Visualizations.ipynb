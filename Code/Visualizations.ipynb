{
 "cells": [
  {
   "cell_type": "code",
   "execution_count": 1,
   "metadata": {},
   "outputs": [],
   "source": [
    "import sys\n",
    "import pickle\n",
    "path: str = '/Users/juanbeta/My Drive/Research/Energy/E-CVRP-TW/Code/'\n",
    "#path: str = 'C:/Users/jm.betancourt/Documents/Research/Energy//E-CVRP-TW/Code/'\n",
    "\n",
    "from E_CVRP_TW import  E_CVRP_TW\n",
    "\n",
    "sys.path.insert(0,path+'Experimentation/')\n",
    "import plot_performance as plot"
   ]
  },
  {
   "cell_type": "markdown",
   "metadata": {},
   "source": [
    "# Define instance to evaluate"
   ]
  },
  {
   "cell_type": "code",
   "execution_count": 2,
   "metadata": {},
   "outputs": [],
   "source": [
    "env = E_CVRP_TW()"
   ]
  },
  {
   "attachments": {},
   "cell_type": "markdown",
   "metadata": {},
   "source": [
    "# Constructive"
   ]
  },
  {
   "attachments": {},
   "cell_type": "markdown",
   "metadata": {},
   "source": [
    "### Alpha configuration\n",
    "\n",
    "Testing various alpha configurations"
   ]
  },
  {
   "cell_type": "code",
   "execution_count": 3,
   "metadata": {},
   "outputs": [],
   "source": [
    "data = {}\n",
    "for instance in env.instances:\n",
    "    data[instance] = {}\n",
    "    for alpha in [0.15, 0.3, 0.5, 'Adaptative-Reactive']:\n",
    "        #data[instance][alpha] = plot.retrieve_const_performance(instance, path+f'Experimentation/Constructive/alpha/{alpha}/')\n",
    "        try:\n",
    "            data[instance][alpha] = plot.retrieve_const_performance(instance, path+f'Experimentation/Constructive/alpha/{alpha}/')\n",
    "        except:\n",
    "            continue"
   ]
  },
  {
   "cell_type": "code",
   "execution_count": 4,
   "metadata": {},
   "outputs": [
    {
     "name": "stdout",
     "output_type": "stream",
     "text": [
      "########## Performance ##########\n",
      "incumbent: 1637.4986985042906\n",
      "gap: 156.59%\n",
      "time to find: 369.329772233963\n"
     ]
    },
    {
     "data": {
      "image/png": "[encoded data removed]",
      "text/plain": [
       "<Figure size 432x288 with 1 Axes>"
      ]
     },
     "metadata": {
      "needs_background": "light"
     },
     "output_type": "display_data"
    }
   ],
   "source": [
    "instance = env.sizes['l'][15]\n",
    "print(f'########## Performance ##########')\n",
    "print(f'incumbent: {data[instance][\"Adaptative-Reactive\"][\"best distance\"]}')\n",
    "print(f'gap: {round((data[instance][\"Adaptative-Reactive\"][\"best distance\"] - env.bkFO[instance])/env.bkFO[instance],4)*100}%')\n",
    "print(f'time to find: {data[instance][\"Adaptative-Reactive\"][\"time to find\"]}')\n",
    "plot.plot_performance(data[instance],instance)"
   ]
  },
  {
   "cell_type": "code",
   "execution_count": 5,
   "metadata": {},
   "outputs": [
    {
     "name": "stdout",
     "output_type": "stream",
     "text": [
      "Instance \tM \tgap \tbestEV \tfoundEV\n",
      "c101C5.txt \t5\t-3.0% \t2 \t3\n",
      "c103C15.txt \t15\t-3.9% \t3 \t4\n",
      "c103C5.txt \t5\t-5.9% \t1 \t2\n",
      "c202C10.txt \t10\t-8.7% \t1 \t3\n",
      "c202C15.txt \t15\t-4.1% \t2 \t3\n",
      "r103C10.txt \t10\t-3.9% \t2 \t3\n",
      "r104C5.txt \t5\t-6.7% \t2 \t2\n",
      "r105C15.txt \t15\t-0.3% \t4 \t4\n",
      "r201C10.txt \t10\t-1.1% \t1 \t3\n",
      "rc105C5.txt \t5\t-0.8% \t2 \t3\n",
      "rc108C10.txt \t10\t-1.7% \t3 \t4\n",
      "rc108C15.txt \t15\t-8.3% \t3 \t4\n",
      "rc201C10.txt \t10\t-18.7% \t1 \t4\n",
      "rc204C15.txt \t15\t-9.5% \t1 \t2\n"
     ]
    }
   ],
   "source": [
    "print('Instance \\tM \\tgap \\tbestEV \\tfoundEV')\n",
    "for instance in env.instances:\n",
    "    try:\n",
    "        env.load_data(instance)\n",
    "        gap = round((data[instance][\"Adaptative-Reactive\"][\"best distance\"] - env.bkFO[instance])/env.bkFO[instance],3)\n",
    "        if gap < 0:\n",
    "            print(f'{instance} \\t{len(env.Costumers)}\\t{round(gap*100,2)}% \\t{env.bkEV[instance]} \\t{len(data[instance][\"Adaptative-Reactive\"][\"best individual\"])}')\n",
    "    except: continue"
   ]
  },
  {
   "cell_type": "code",
   "execution_count": 7,
   "metadata": {},
   "outputs": [
    {
     "name": "stdout",
     "output_type": "stream",
     "text": [
      "[['D', 'C3', 'C96', 'S3', 'C88', 'C80', 'S18', 'C72', 'D'], ['D', 'C42', 'C57', 'C48', 'S13', 'C34', 'C22', 'D']]\n"
     ]
    }
   ],
   "source": [
    "instance = 'c104C10.txt'\n",
    "data[instance]['Adaptative-Reactive']['best individual']\n",
    "\n",
    "print(data[instance]['Adaptative-Reactive']['best individual'])"
   ]
  },
  {
   "cell_type": "code",
   "execution_count": 42,
   "metadata": {},
   "outputs": [
    {
     "name": "stdout",
     "output_type": "stream",
     "text": [
      "112.92935585975647\n",
      "316.17465376853943\n",
      "122.1581859588623\n",
      "276.98327684402466\n",
      "283.82006311416626\n",
      "80.48267388343811\n",
      "140.5773367881775\n",
      "371.97225689888\n",
      "63.585283041000366\n",
      "297.86185693740845\n",
      "161.64576721191406\n",
      "199.4116940498352\n",
      "271.64536118507385\n",
      "41.165663957595825\n",
      "412.5596432685852\n",
      "369.329772233963\n",
      "29.36681032180786\n",
      "216.13180017471313\n",
      "479.95708990097046\n",
      "167.89196515083313\n",
      "356.9417908191681\n",
      "467.18270611763\n",
      "137.41160893440247\n",
      "127.27586221694946\n",
      "91.76016092300415\n",
      "151.07716178894043\n",
      "298.74321579933167\n",
      "68.46793794631958\n",
      "301.33016180992126\n",
      "228.16248178482056\n",
      "56.0355269908905\n",
      "475.5189309120178\n",
      "133.02608633041382\n",
      "158.874902009964\n",
      "272.3468828201294\n",
      "299.02606415748596\n",
      "264.7321102619171\n",
      "414.6676926612854\n",
      "77.88278603553772\n",
      "224.49606680870056\n",
      "370.4801609516144\n",
      "425.499920129776\n",
      "159.42925119400024\n",
      "217.15796303749084\n",
      "181.9060800075531\n",
      "206.12182593345642\n",
      "472.63065791130066\n",
      "358.6867182254791\n",
      "179.49244594573975\n",
      "313.05116724967957\n",
      "44.26639437675476\n",
      "110.52851510047913\n",
      "330.21730160713196\n",
      "400.40898752212524\n",
      "212.44707703590393\n",
      "324.6175866127014\n"
     ]
    }
   ],
   "source": [
    "env.load_data(instance)\n",
    "env.generate_parameters()\n",
    "# env.detail_route(['D', 'C3', 'C88', 'C96', 'S3', 'S13', 'C34', 'D'])\n"
   ]
  },
  {
   "cell_type": "code",
   "execution_count": null,
   "metadata": {},
   "outputs": [],
   "source": []
  }
 ],
 "metadata": {
  "kernelspec": {
   "display_name": "Python 3",
   "language": "python",
   "name": "python3"
  },
  "language_info": {
   "codemirror_mode": {
    "name": "ipython",
    "version": 3
   },
   "file_extension": ".py",
   "mimetype": "text/x-python",
   "name": "python",
   "nbconvert_exporter": "python",
   "pygments_lexer": "ipython3",
   "version": "3.10.4"
  },
  "orig_nbformat": 4
 },
 "nbformat": 4,
 "nbformat_minor": 2
}

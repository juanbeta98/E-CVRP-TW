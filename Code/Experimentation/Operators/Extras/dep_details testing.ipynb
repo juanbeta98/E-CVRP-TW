{
 "cells": [
  {
   "cell_type": "code",
   "execution_count": 1,
   "metadata": {},
   "outputs": [
    {
     "name": "stdout",
     "output_type": "stream",
     "text": [
      "\n",
      "\n",
      "########################################################################\n",
      "                 Instance c101C5.txt / two opt ################\n",
      "########################################################################\n",
      "- size: 5\n",
      "- bkFO: 257.75\n",
      "- bkEV: 2\n",
      "\n",
      "Population generation started: 1000 individuals\n",
      " - Using a Constructive with adaptative-reactive alpha and Exo-Hybrid criterion\n",
      "\n",
      "- Generated 500 training ind in 0.16s\n",
      "\n",
      "- Starting real population generation\n",
      "\n",
      "Time \t \tInd \t \tIncumbent \tgap \t \t#EV\n",
      "0.16\t \t0\t \t299.36\t \t16.14%\t \t3\n",
      "0.16\t \t1\t \t250.04\t \t-2.99%\t \t3\n"
     ]
    }
   ],
   "source": [
    "from numpy.random import seed, choice, randint, random\n",
    "from time import time\n",
    "import sys\n",
    "import pickle\n",
    "import matplotlib.pyplot as plt\n",
    "\n",
    "path: str = '/Users/juanbeta/My Drive/Research/Energy/E-CVRP-TW/Code/' ##### CHANGE WHEN NECESSARY!!!\n",
    "#path: str = 'C:/Users/jm.betancourt/Documents/Research/Energy/E-CVRP-TW/Code/' ##### CHANGE WHEN NECESSARY!!!\n",
    "\n",
    "sys.path.insert(0,path)\n",
    "from E_CVRP_TW import  E_CVRP_TW, Constructive, Experiment, Genetic, Reparator, Feasibility\n",
    "\n",
    "'''\n",
    "General parameters\n",
    "'''\n",
    "start: float = time()\n",
    "\n",
    "rd_seed: int = 0\n",
    "seed(rd_seed)\n",
    "\n",
    "verbose = True\n",
    "saving = True\n",
    "\n",
    "'''\n",
    "Environment\n",
    "'''\n",
    "env: E_CVRP_TW = E_CVRP_TW(path)\n",
    "\n",
    "\n",
    "'''\n",
    "Constructive heuristic\n",
    "'''\n",
    "training_ind_prop = 0.5\n",
    "RCL_criterion:str = 'Exo-Hybrid'\n",
    "\n",
    "constructive_verbose = True\n",
    "\n",
    "constructive:Constructive = Constructive()\n",
    "\n",
    "\n",
    "'''\n",
    "Genetic algorithm\n",
    "'''\n",
    "Population_size:int = 1000\n",
    "training_ind:int = int(round(Population_size * training_ind_prop,0))\n",
    "Elite_size:int = int(Population_size * 0.5)\n",
    "\n",
    "crossover_rate:float = 0.5\n",
    "mutation_rate:float = 0.5\n",
    "\n",
    "genetic: Genetic = Genetic(Population_size, Elite_size, crossover_rate, mutation_rate)\n",
    "\n",
    "Operator:str = 'two opt'\n",
    "\n",
    "'''\n",
    "Repair operators\n",
    "'''\n",
    "repair_op: Reparator = Reparator()\n",
    "\n",
    "\n",
    "'''\n",
    "Feasibility operators\n",
    "'''\n",
    "feas_op: Feasibility = Feasibility()\n",
    "\n",
    "'''\n",
    "EXPERIMENTATION\n",
    "Variable convention:\n",
    "- Details: List of tuples (individual), where the tuple (distances, times) are discriminated per route\n",
    "- best_individual: list with (individual, distance, time, details)\n",
    "'''\n",
    "lab: Experiment = Experiment()\n",
    "colors: list = ['blue', 'red', 'black', 'purple', 'green', 'orange']\n",
    "\n",
    "testing_times = {'s':0.5, 'm':3, 'l':7}\n",
    "\n",
    "\n",
    "'''\n",
    "Instance testing\n",
    "'''\n",
    "test_bed = [env.sizes['s'][0]]\n",
    "#test_bed = ['c202C10.txt', 'c103_21.txt']\n",
    "instance = test_bed[0]\n",
    "\n",
    "# Saving performance \n",
    "Results = dict()\n",
    "Incumbents = list()\n",
    "ploting_Times = list()\n",
    "\n",
    "# Setting runnign times depending on instance size\n",
    "if instance in env.sizes['s']:  max_time = 60 * testing_times['s']\n",
    "elif instance in env.sizes['m']:  max_time = 60 * testing_times['m']\n",
    "else:   max_time = 60 * testing_times['l']\n",
    "\n",
    "# Constructive\n",
    "g_start = time()\n",
    "env.load_data(instance)\n",
    "env.generate_parameters()\n",
    "constructive.reset(env)\n",
    "\n",
    "# Printing progress\n",
    "if verbose: \n",
    "    print(f'\\n\\n########################################################################')\n",
    "    print(f'                 Instance {instance} / {Operator} ################')\n",
    "    print(f'########################################################################')\n",
    "    print(f'- size: {len(list(env.C.keys()))}')\n",
    "    print(f'- bkFO: {env.bkFO[instance]}')\n",
    "    print(f'- bkEV: {env.bkEV[instance]}')\n",
    "\n",
    "# Population generation\n",
    "Population, Distances, Times, Details, incumbent, best_individual, RCL_alpha = genetic.generate_population(env, constructive, training_ind, \n",
    "                                                                                                g_start, instance, constructive_verbose)"
   ]
  },
  {
   "cell_type": "code",
   "execution_count": 2,
   "metadata": {},
   "outputs": [],
   "source": [
    "ind = 0\n",
    "\n",
    "constr_dep_t = Details[ind][2][0]\n",
    "\n",
    "feasible, details  = feas_op.individual_check(env, Population[ind])\n",
    "feas_op_dep_t = details[2][2][0]"
   ]
  },
  {
   "cell_type": "code",
   "execution_count": 6,
   "metadata": {},
   "outputs": [
    {
     "data": {
      "text/plain": [
       "True"
      ]
     },
     "execution_count": 6,
     "metadata": {},
     "output_type": "execute_result"
    }
   ],
   "source": [
    "constr_dep_t"
   ]
  },
  {
   "cell_type": "code",
   "execution_count": 7,
   "metadata": {},
   "outputs": [
    {
     "data": {
      "text/plain": [
       "True"
      ]
     },
     "execution_count": 7,
     "metadata": {},
     "output_type": "execute_result"
    }
   ],
   "source": [
    "feas_op_dep_t == constr_dep_t"
   ]
  },
  {
   "cell_type": "code",
   "execution_count": 5,
   "metadata": {},
   "outputs": [
    {
     "data": {
      "text/plain": [
       "[['D', 'C64', 'S15', 'C85', 'D'],\n",
       " ['D', 'C30', 'S0', 'C100', 'D'],\n",
       " ['D', 'C12', 'D']]"
      ]
     },
     "execution_count": 5,
     "metadata": {},
     "output_type": "execute_result"
    }
   ],
   "source": [
    "Population[ind]"
   ]
  },
  {
   "cell_type": "code",
   "execution_count": 20,
   "metadata": {},
   "outputs": [
    {
     "name": "stdout",
     "output_type": "stream",
     "text": [
      "21.540659228538015\n",
      "353.0\n"
     ]
    }
   ],
   "source": [
    "print(env.dist['D','C64'] / env.v)\n",
    "print(env.C['C64']['ReadyTime']+env.C['C64']['ServiceTime'])"
   ]
  },
  {
   "cell_type": "code",
   "execution_count": 22,
   "metadata": {},
   "outputs": [
    {
     "name": "stdout",
     "output_type": "stream",
     "text": [
      "9.848857801796104\n",
      "{'type': 's', 'x': 39.0, 'y': 26.0}\n"
     ]
    },
    {
     "data": {
      "text/plain": [
       "90.0"
      ]
     },
     "execution_count": 22,
     "metadata": {},
     "output_type": "execute_result"
    }
   ],
   "source": [
    "print(env.dist['C64','S15'] / env.v)\n",
    "print(env.dist['C64','S15'] / env.r * ())\n",
    "env.C['C64']['ServiceTime']"
   ]
  },
  {
   "cell_type": "code",
   "execution_count": null,
   "metadata": {},
   "outputs": [],
   "source": []
  }
 ],
 "metadata": {
  "kernelspec": {
   "display_name": "E-CVRP-TWEnv",
   "language": "python",
   "name": "python3"
  },
  "language_info": {
   "codemirror_mode": {
    "name": "ipython",
    "version": 3
   },
   "file_extension": ".py",
   "mimetype": "text/x-python",
   "name": "python",
   "nbconvert_exporter": "python",
   "pygments_lexer": "ipython3",
   "version": "3.11.0"
  },
  "orig_nbformat": 4
 },
 "nbformat": 4,
 "nbformat_minor": 2
}
